{
 "cells": [
  {
   "cell_type": "code",
   "execution_count": null,
   "metadata": {},
   "outputs": [],
   "source": [
    "import turtle\n",
    "\n",
    "wn = turtle.Screen()\n",
    "wn.bgcolor(\"red\")        # set the window background \n",
    "\n",
    "tess = turtle.Turtle()\n",
    "tess.color(\"white\")              # make text white\n",
    "tess.pensize(5)                 # set the width of the pen\n",
    "\n",
    "tess.left(90)\n",
    "tess.forward(150)\n",
    "tess.right(135)\n",
    "tess.forward(50)\n",
    "tess.left(90)\n",
    "tess.forward(50)\n",
    "tess.right(135)\n",
    "tess.forward(150)\n",
    "\n",
    "wn.exitonclick()                # wait for a user click on the canvas"
   ]
  },
  {
   "cell_type": "code",
   "execution_count": null,
   "metadata": {},
   "outputs": [],
   "source": []
  }
 ],
 "metadata": {
  "kernelspec": {
   "display_name": "Python 3",
   "language": "python",
   "name": "python3"
  },
  "language_info": {
   "codemirror_mode": {
    "name": "ipython",
    "version": 3
   },
   "file_extension": ".py",
   "mimetype": "text/x-python",
   "name": "python",
   "nbconvert_exporter": "python",
   "pygments_lexer": "ipython3",
   "version": "3.6.3"
  }
 },
 "nbformat": 4,
 "nbformat_minor": 2
}
